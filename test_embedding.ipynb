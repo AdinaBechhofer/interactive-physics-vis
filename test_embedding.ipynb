{
 "cells": [
  {
   "cell_type": "code",
   "execution_count": 10,
   "metadata": {},
   "outputs": [
    {
     "ename": "ValueError",
     "evalue": "OutputDocumentFor expects a sequence of Models",
     "output_type": "error",
     "traceback": [
      "\u001b[0;31m---------------------------------------------------------------------------\u001b[0m",
      "\u001b[0;31mValueError\u001b[0m                                Traceback (most recent call last)",
      "Cell \u001b[0;32mIn[10], line 5\u001b[0m\n\u001b[1;32m      2\u001b[0m \u001b[38;5;28;01mfrom\u001b[39;00m \u001b[38;5;21;01mbokeh\u001b[39;00m\u001b[38;5;21;01m.\u001b[39;00m\u001b[38;5;21;01mresources\u001b[39;00m \u001b[38;5;28;01mimport\u001b[39;00m CDN\n\u001b[1;32m      3\u001b[0m \u001b[38;5;28;01mimport\u001b[39;00m \u001b[38;5;21;01mIPython\u001b[39;00m\n\u001b[0;32m----> 5\u001b[0m html_repr \u001b[38;5;241m=\u001b[39m \u001b[43mfile_html\u001b[49m\u001b[43m(\u001b[49m\u001b[38;5;124;43m\"\u001b[39;49m\u001b[38;5;124;43mdemo-bokeh-static.html\u001b[39;49m\u001b[38;5;124;43m\"\u001b[39;49m\u001b[43m,\u001b[49m\u001b[43m \u001b[49m\u001b[43mCDN\u001b[49m\u001b[43m)\u001b[49m\n\u001b[1;32m      6\u001b[0m IPython\u001b[38;5;241m.\u001b[39mdisplay\u001b[38;5;241m.\u001b[39mHTML(html_repr)\n",
      "File \u001b[0;32m~/.local/lib/python3.8/site-packages/bokeh/embed/standalone.py:356\u001b[0m, in \u001b[0;36mfile_html\u001b[0;34m(models, resources, title, template, template_variables, theme, suppress_callback_warning, _always_new)\u001b[0m\n\u001b[1;32m    353\u001b[0m \u001b[38;5;28;01melse\u001b[39;00m:\n\u001b[1;32m    354\u001b[0m     models_seq \u001b[38;5;241m=\u001b[39m models\n\u001b[0;32m--> 356\u001b[0m \u001b[38;5;28;01mwith\u001b[39;00m OutputDocumentFor(models_seq, apply_theme\u001b[38;5;241m=\u001b[39mtheme, always_new\u001b[38;5;241m=\u001b[39m_always_new) \u001b[38;5;28;01mas\u001b[39;00m doc:\n\u001b[1;32m    357\u001b[0m     (docs_json, render_items) \u001b[38;5;241m=\u001b[39m standalone_docs_json_and_render_items(models_seq, suppress_callback_warning\u001b[38;5;241m=\u001b[39msuppress_callback_warning)\n\u001b[1;32m    358\u001b[0m     title \u001b[38;5;241m=\u001b[39m _title_from_models(models_seq, title)\n",
      "File \u001b[0;32m/usr/lib/python3.8/contextlib.py:113\u001b[0m, in \u001b[0;36m_GeneratorContextManager.__enter__\u001b[0;34m(self)\u001b[0m\n\u001b[1;32m    111\u001b[0m \u001b[38;5;28;01mdel\u001b[39;00m \u001b[38;5;28mself\u001b[39m\u001b[38;5;241m.\u001b[39margs, \u001b[38;5;28mself\u001b[39m\u001b[38;5;241m.\u001b[39mkwds, \u001b[38;5;28mself\u001b[39m\u001b[38;5;241m.\u001b[39mfunc\n\u001b[1;32m    112\u001b[0m \u001b[38;5;28;01mtry\u001b[39;00m:\n\u001b[0;32m--> 113\u001b[0m     \u001b[38;5;28;01mreturn\u001b[39;00m \u001b[38;5;28;43mnext\u001b[39;49m\u001b[43m(\u001b[49m\u001b[38;5;28;43mself\u001b[39;49m\u001b[38;5;241;43m.\u001b[39;49m\u001b[43mgen\u001b[49m\u001b[43m)\u001b[49m\n\u001b[1;32m    114\u001b[0m \u001b[38;5;28;01mexcept\u001b[39;00m \u001b[38;5;167;01mStopIteration\u001b[39;00m:\n\u001b[1;32m    115\u001b[0m     \u001b[38;5;28;01mraise\u001b[39;00m \u001b[38;5;167;01mRuntimeError\u001b[39;00m(\u001b[38;5;124m\"\u001b[39m\u001b[38;5;124mgenerator didn\u001b[39m\u001b[38;5;124m'\u001b[39m\u001b[38;5;124mt yield\u001b[39m\u001b[38;5;124m\"\u001b[39m) \u001b[38;5;28;01mfrom\u001b[39;00m \u001b[38;5;28;01mNone\u001b[39;00m\n",
      "File \u001b[0;32m~/.local/lib/python3.8/site-packages/bokeh/embed/util.py:135\u001b[0m, in \u001b[0;36mOutputDocumentFor\u001b[0;34m(objs, apply_theme, always_new)\u001b[0m\n\u001b[1;32m    131\u001b[0m \u001b[38;5;66;03m# Note: Comms handling relies on the fact that the new_doc returned\u001b[39;00m\n\u001b[1;32m    132\u001b[0m \u001b[38;5;66;03m# has models with the same IDs as they were started with\u001b[39;00m\n\u001b[1;32m    134\u001b[0m \u001b[38;5;28;01mif\u001b[39;00m \u001b[38;5;129;01mnot\u001b[39;00m \u001b[38;5;28misinstance\u001b[39m(objs, Sequence) \u001b[38;5;129;01mor\u001b[39;00m \u001b[38;5;28mlen\u001b[39m(objs) \u001b[38;5;241m==\u001b[39m \u001b[38;5;241m0\u001b[39m \u001b[38;5;129;01mor\u001b[39;00m \u001b[38;5;129;01mnot\u001b[39;00m \u001b[38;5;28mall\u001b[39m(\u001b[38;5;28misinstance\u001b[39m(x, Model) \u001b[38;5;28;01mfor\u001b[39;00m x \u001b[38;5;129;01min\u001b[39;00m objs):\n\u001b[0;32m--> 135\u001b[0m     \u001b[38;5;28;01mraise\u001b[39;00m \u001b[38;5;167;01mValueError\u001b[39;00m(\u001b[38;5;124m\"\u001b[39m\u001b[38;5;124mOutputDocumentFor expects a sequence of Models\u001b[39m\u001b[38;5;124m\"\u001b[39m)\n\u001b[1;32m    137\u001b[0m \u001b[38;5;28;01mdef\u001b[39;00m \u001b[38;5;21mfinish\u001b[39m() \u001b[38;5;241m-\u001b[39m\u001b[38;5;241m>\u001b[39m \u001b[38;5;28;01mNone\u001b[39;00m:\n\u001b[1;32m    138\u001b[0m     \u001b[38;5;28;01mpass\u001b[39;00m\n",
      "\u001b[0;31mValueError\u001b[0m: OutputDocumentFor expects a sequence of Models"
     ]
    }
   ],
   "source": [
    "from bokeh.embed import file_html\n",
    "from bokeh.resources import CDN\n",
    "import IPython\n",
    "\n",
    "html_repr = file_html(\"demo-bokeh-static.html\", CDN)\n",
    "IPython.display.HTML(html_repr)"
   ]
  },
  {
   "cell_type": "raw",
   "metadata": {},
   "source": [
    "```{raw} html\n",
    ":file: demo.html\n",
    "```"
   ]
  },
  {
   "cell_type": "code",
   "execution_count": 15,
   "metadata": {},
   "outputs": [
    {
     "data": {
      "text/html": [
       "<!DOCTYPE html>\n",
       "<html lang=\"en\">\n",
       "  <head>\n",
       "    <meta charset=\"utf-8\">\n",
       "    <title>Bokeh Plot</title>\n",
       "    <style>\n",
       "      html, body {\n",
       "        box-sizing: border-box;\n",
       "        display: flow-root;\n",
       "        height: 100%;\n",
       "        margin: 0;\n",
       "        padding: 0;\n",
       "      }\n",
       "    </style>\n",
       "    <script type=\"text/javascript\" src=\"https://cdn.bokeh.org/bokeh/release/bokeh-3.6.2.min.js\"></script>\n",
       "    <script type=\"text/javascript\" src=\"https://cdn.bokeh.org/bokeh/release/bokeh-widgets-3.6.2.min.js\"></script>\n",
       "    <script type=\"text/javascript\">\n",
       "        Bokeh.set_log_level(\"info\");\n",
       "    </script>\n",
       "  </head>\n",
       "  <body>\n",
       "    <div id=\"e8b72146-6db6-4948-86fd-b4b04a8e924f\" data-root-id=\"p1051\" style=\"display: contents;\"></div>\n",
       "  \n",
       "    <script type=\"application/json\" id=\"dcef3298-0935-42d4-8de4-3cd2154efcb5\">\n",
       "      {\"a98af512-1e82-4507-b417-7d0c73b897a6\":{\"version\":\"3.6.2\",\"title\":\"Bokeh Application\",\"roots\":[{\"type\":\"object\",\"name\":\"Row\",\"id\":\"p1051\",\"attributes\":{\"children\":[{\"type\":\"object\",\"name\":\"Figure\",\"id\":\"p1004\",\"attributes\":{\"width\":400,\"height\":400,\"x_range\":{\"type\":\"object\",\"name\":\"DataRange1d\",\"id\":\"p1006\"},\"y_range\":{\"type\":\"object\",\"name\":\"Range1d\",\"id\":\"p1013\",\"attributes\":{\"start\":-30,\"end\":30}},\"x_scale\":{\"type\":\"object\",\"name\":\"LinearScale\",\"id\":\"p1014\"},\"y_scale\":{\"type\":\"object\",\"name\":\"LinearScale\",\"id\":\"p1015\"},\"title\":{\"type\":\"object\",\"name\":\"Title\",\"id\":\"p1011\"},\"renderers\":[{\"type\":\"object\",\"name\":\"GlyphRenderer\",\"id\":\"p1045\",\"attributes\":{\"data_source\":{\"type\":\"object\",\"name\":\"ColumnDataSource\",\"id\":\"p1001\",\"attributes\":{\"selected\":{\"type\":\"object\",\"name\":\"Selection\",\"id\":\"p1002\",\"attributes\":{\"indices\":[],\"line_indices\":[]}},\"selection_policy\":{\"type\":\"object\",\"name\":\"UnionRenderers\",\"id\":\"p1003\"},\"data\":{\"type\":\"map\",\"entries\":[[\"x\",{\"type\":\"ndarray\",\"array\":{\"type\":\"bytes\",\"data\":\"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\"},\"shape\":[200],\"dtype\":\"float64\",\"order\":\"little\"}],[\"y\",{\"type\":\"ndarray\",\"array\":{\"type\":\"bytes\",\"data\":\"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\"},\"shape\":[200],\"dtype\":\"float64\",\"order\":\"little\"}]]}}},\"view\":{\"type\":\"object\",\"name\":\"CDSView\",\"id\":\"p1046\",\"attributes\":{\"filter\":{\"type\":\"object\",\"name\":\"AllIndices\",\"id\":\"p1047\"}}},\"glyph\":{\"type\":\"object\",\"name\":\"Line\",\"id\":\"p1042\",\"attributes\":{\"x\":{\"type\":\"field\",\"field\":\"x\"},\"y\":{\"type\":\"field\",\"field\":\"y\"},\"line_color\":\"#1f77b4\",\"line_alpha\":0.6,\"line_width\":3}},\"nonselection_glyph\":{\"type\":\"object\",\"name\":\"Line\",\"id\":\"p1043\",\"attributes\":{\"x\":{\"type\":\"field\",\"field\":\"x\"},\"y\":{\"type\":\"field\",\"field\":\"y\"},\"line_color\":\"#1f77b4\",\"line_alpha\":0.1,\"line_width\":3}},\"muted_glyph\":{\"type\":\"object\",\"name\":\"Line\",\"id\":\"p1044\",\"attributes\":{\"x\":{\"type\":\"field\",\"field\":\"x\"},\"y\":{\"type\":\"field\",\"field\":\"y\"},\"line_color\":\"#1f77b4\",\"line_alpha\":0.2,\"line_width\":3}}}}],\"toolbar\":{\"type\":\"object\",\"name\":\"Toolbar\",\"id\":\"p1012\",\"attributes\":{\"tools\":[{\"type\":\"object\",\"name\":\"PanTool\",\"id\":\"p1026\"},{\"type\":\"object\",\"name\":\"WheelZoomTool\",\"id\":\"p1027\",\"attributes\":{\"renderers\":\"auto\"}},{\"type\":\"object\",\"name\":\"BoxZoomTool\",\"id\":\"p1028\",\"attributes\":{\"overlay\":{\"type\":\"object\",\"name\":\"BoxAnnotation\",\"id\":\"p1029\",\"attributes\":{\"syncable\":false,\"line_color\":\"black\",\"line_alpha\":1.0,\"line_width\":2,\"line_dash\":[4,4],\"fill_color\":\"lightgrey\",\"fill_alpha\":0.5,\"level\":\"overlay\",\"visible\":false,\"left\":{\"type\":\"number\",\"value\":\"nan\"},\"right\":{\"type\":\"number\",\"value\":\"nan\"},\"top\":{\"type\":\"number\",\"value\":\"nan\"},\"bottom\":{\"type\":\"number\",\"value\":\"nan\"},\"left_units\":\"canvas\",\"right_units\":\"canvas\",\"top_units\":\"canvas\",\"bottom_units\":\"canvas\",\"handles\":{\"type\":\"object\",\"name\":\"BoxInteractionHandles\",\"id\":\"p1035\",\"attributes\":{\"all\":{\"type\":\"object\",\"name\":\"AreaVisuals\",\"id\":\"p1034\",\"attributes\":{\"fill_color\":\"white\",\"hover_fill_color\":\"lightgray\"}}}}}}}},{\"type\":\"object\",\"name\":\"SaveTool\",\"id\":\"p1036\"},{\"type\":\"object\",\"name\":\"ResetTool\",\"id\":\"p1037\"},{\"type\":\"object\",\"name\":\"HelpTool\",\"id\":\"p1038\"}]}},\"left\":[{\"type\":\"object\",\"name\":\"LinearAxis\",\"id\":\"p1021\",\"attributes\":{\"ticker\":{\"type\":\"object\",\"name\":\"BasicTicker\",\"id\":\"p1022\",\"attributes\":{\"mantissas\":[1,2,5]}},\"formatter\":{\"type\":\"object\",\"name\":\"BasicTickFormatter\",\"id\":\"p1023\"},\"major_label_policy\":{\"type\":\"object\",\"name\":\"AllLabels\",\"id\":\"p1024\"}}}],\"below\":[{\"type\":\"object\",\"name\":\"LinearAxis\",\"id\":\"p1016\",\"attributes\":{\"ticker\":{\"type\":\"object\",\"name\":\"BasicTicker\",\"id\":\"p1017\",\"attributes\":{\"mantissas\":[1,2,5]}},\"formatter\":{\"type\":\"object\",\"name\":\"BasicTickFormatter\",\"id\":\"p1018\"},\"major_label_policy\":{\"type\":\"object\",\"name\":\"AllLabels\",\"id\":\"p1019\"}}}],\"center\":[{\"type\":\"object\",\"name\":\"Grid\",\"id\":\"p1020\",\"attributes\":{\"axis\":{\"id\":\"p1016\"}}},{\"type\":\"object\",\"name\":\"Grid\",\"id\":\"p1025\",\"attributes\":{\"dimension\":1,\"axis\":{\"id\":\"p1021\"}}}]}},{\"type\":\"object\",\"name\":\"Column\",\"id\":\"p1050\",\"attributes\":{\"children\":[{\"type\":\"object\",\"name\":\"Slider\",\"id\":\"p1048\",\"attributes\":{\"js_property_callbacks\":{\"type\":\"map\",\"entries\":[[\"change:value\",[{\"type\":\"object\",\"name\":\"CustomJS\",\"id\":\"p1049\",\"attributes\":{\"args\":{\"type\":\"map\",\"entries\":[[\"source\",{\"id\":\"p1001\"}],[\"mode_num\",{\"id\":\"p1048\"}]]},\"code\":\"\\n    const N = mode_num.value\\n\\n    const x = source.data.x\\n\\n    var y = Array.from(x, (x) =&gt; Math.cos(Math.PI*x))\\n    for (let i = 2; i &lt; (N+1); i++) {\\n        const temp_y = Array.from(x, (x) =&gt; Math.cos(i*Math.PI*x))\\n        for (let j = 0; j&lt;y.length; j++) \\n        {\\n         y[j] += temp_y[j]\\n        }\\n    }\\n    source.data = { x, y }\\n\"}}]]]},\"title\":\"Number of modes\",\"start\":1,\"end\":30,\"value\":1}}]}}]}}]}}\n",
       "    </script>\n",
       "    <script type=\"text/javascript\">\n",
       "      (function() {\n",
       "        const fn = function() {\n",
       "          Bokeh.safely(function() {\n",
       "            (function(root) {\n",
       "              function embed_document(root) {\n",
       "              const docs_json = document.getElementById('dcef3298-0935-42d4-8de4-3cd2154efcb5').textContent;\n",
       "              const render_items = [{\"docid\":\"a98af512-1e82-4507-b417-7d0c73b897a6\",\"roots\":{\"p1051\":\"e8b72146-6db6-4948-86fd-b4b04a8e924f\"},\"root_ids\":[\"p1051\"]}];\n",
       "              root.Bokeh.embed.embed_items(docs_json, render_items);\n",
       "              }\n",
       "              if (root.Bokeh !== undefined) {\n",
       "                embed_document(root);\n",
       "              } else {\n",
       "                let attempts = 0;\n",
       "                const timer = setInterval(function(root) {\n",
       "                  if (root.Bokeh !== undefined) {\n",
       "                    clearInterval(timer);\n",
       "                    embed_document(root);\n",
       "                  } else {\n",
       "                    attempts++;\n",
       "                    if (attempts > 100) {\n",
       "                      clearInterval(timer);\n",
       "                      console.log(\"Bokeh: ERROR: Unable to run BokehJS code because BokehJS library is missing\");\n",
       "                    }\n",
       "                  }\n",
       "                }, 10, root)\n",
       "              }\n",
       "            })(window);\n",
       "          });\n",
       "        };\n",
       "        if (document.readyState != \"loading\") fn();\n",
       "        else document.addEventListener(\"DOMContentLoaded\", fn);\n",
       "      })();\n",
       "    </script>\n",
       "  </body>\n",
       "</html>"
      ],
      "text/plain": [
       "<IPython.core.display.HTML object>"
      ]
     },
     "metadata": {},
     "output_type": "display_data"
    }
   ],
   "source": [
    "from IPython.display import display, HTML\n",
    "display(HTML(filename=\"demo-bokeh-static.html\"))"
   ]
  },
  {
   "cell_type": "code",
   "execution_count": null,
   "metadata": {},
   "outputs": [],
   "source": [
    "display(HTML('<h1>Hello, world!</h1>'))"
   ]
  },
  {
   "cell_type": "code",
   "execution_count": 11,
   "metadata": {},
   "outputs": [
    {
     "data": {
      "text/html": [
       "<!DOCTYPE html>\n",
       "<html lang=\"en\">\n",
       "  <head>\n",
       "    <meta charset=\"utf-8\">\n",
       "    <title>Bokeh Plot</title>\n",
       "    <style>\n",
       "      html, body {\n",
       "        box-sizing: border-box;\n",
       "        display: flow-root;\n",
       "        height: 100%;\n",
       "        margin: 0;\n",
       "        padding: 0;\n",
       "      }\n",
       "    </style>\n",
       "    <script type=\"text/javascript\" src=\"https://cdn.bokeh.org/bokeh/release/bokeh-3.6.2.min.js\"></script>\n",
       "    <script type=\"text/javascript\">\n",
       "        Bokeh.set_log_level(\"info\");\n",
       "    </script>\n",
       "  </head>\n",
       "  <body>\n",
       "    <div id=\"eb9fad69-c9fc-49c6-9c21-e7f5498b29a6\" data-root-id=\"p1001\" style=\"display: contents;\"></div>\n",
       "  \n",
       "    <script type=\"application/json\" id=\"d01b02f1-0f21-4d76-bee6-79e4bfb99861\">\n",
       "      {\"8432e501-adaa-4a74-9cda-eb39a98b6c2a\":{\"version\":\"3.6.2\",\"title\":\"Bokeh Application\",\"roots\":[{\"type\":\"object\",\"name\":\"Figure\",\"id\":\"p1001\",\"attributes\":{\"x_range\":{\"type\":\"object\",\"name\":\"DataRange1d\",\"id\":\"p1002\"},\"y_range\":{\"type\":\"object\",\"name\":\"DataRange1d\",\"id\":\"p1003\"},\"x_scale\":{\"type\":\"object\",\"name\":\"LinearScale\",\"id\":\"p1011\"},\"y_scale\":{\"type\":\"object\",\"name\":\"LinearScale\",\"id\":\"p1012\"},\"title\":{\"type\":\"object\",\"name\":\"Title\",\"id\":\"p1004\",\"attributes\":{\"text\":\"Simple line example\"}},\"renderers\":[{\"type\":\"object\",\"name\":\"GlyphRenderer\",\"id\":\"p1042\",\"attributes\":{\"data_source\":{\"type\":\"object\",\"name\":\"ColumnDataSource\",\"id\":\"p1036\",\"attributes\":{\"selected\":{\"type\":\"object\",\"name\":\"Selection\",\"id\":\"p1037\",\"attributes\":{\"indices\":[],\"line_indices\":[]}},\"selection_policy\":{\"type\":\"object\",\"name\":\"UnionRenderers\",\"id\":\"p1038\"},\"data\":{\"type\":\"map\",\"entries\":[[\"x\",[1,2,3,4,5]],[\"y\",[6,7,2,4,5]]]}}},\"view\":{\"type\":\"object\",\"name\":\"CDSView\",\"id\":\"p1043\",\"attributes\":{\"filter\":{\"type\":\"object\",\"name\":\"AllIndices\",\"id\":\"p1044\"}}},\"glyph\":{\"type\":\"object\",\"name\":\"Line\",\"id\":\"p1039\",\"attributes\":{\"x\":{\"type\":\"field\",\"field\":\"x\"},\"y\":{\"type\":\"field\",\"field\":\"y\"},\"line_color\":\"#1f77b4\",\"line_width\":2}},\"nonselection_glyph\":{\"type\":\"object\",\"name\":\"Line\",\"id\":\"p1040\",\"attributes\":{\"x\":{\"type\":\"field\",\"field\":\"x\"},\"y\":{\"type\":\"field\",\"field\":\"y\"},\"line_color\":\"#1f77b4\",\"line_alpha\":0.1,\"line_width\":2}},\"muted_glyph\":{\"type\":\"object\",\"name\":\"Line\",\"id\":\"p1041\",\"attributes\":{\"x\":{\"type\":\"field\",\"field\":\"x\"},\"y\":{\"type\":\"field\",\"field\":\"y\"},\"line_color\":\"#1f77b4\",\"line_alpha\":0.2,\"line_width\":2}}}}],\"toolbar\":{\"type\":\"object\",\"name\":\"Toolbar\",\"id\":\"p1010\",\"attributes\":{\"tools\":[{\"type\":\"object\",\"name\":\"PanTool\",\"id\":\"p1023\"},{\"type\":\"object\",\"name\":\"WheelZoomTool\",\"id\":\"p1024\",\"attributes\":{\"renderers\":\"auto\"}},{\"type\":\"object\",\"name\":\"BoxZoomTool\",\"id\":\"p1025\",\"attributes\":{\"overlay\":{\"type\":\"object\",\"name\":\"BoxAnnotation\",\"id\":\"p1026\",\"attributes\":{\"syncable\":false,\"line_color\":\"black\",\"line_alpha\":1.0,\"line_width\":2,\"line_dash\":[4,4],\"fill_color\":\"lightgrey\",\"fill_alpha\":0.5,\"level\":\"overlay\",\"visible\":false,\"left\":{\"type\":\"number\",\"value\":\"nan\"},\"right\":{\"type\":\"number\",\"value\":\"nan\"},\"top\":{\"type\":\"number\",\"value\":\"nan\"},\"bottom\":{\"type\":\"number\",\"value\":\"nan\"},\"left_units\":\"canvas\",\"right_units\":\"canvas\",\"top_units\":\"canvas\",\"bottom_units\":\"canvas\",\"handles\":{\"type\":\"object\",\"name\":\"BoxInteractionHandles\",\"id\":\"p1032\",\"attributes\":{\"all\":{\"type\":\"object\",\"name\":\"AreaVisuals\",\"id\":\"p1031\",\"attributes\":{\"fill_color\":\"white\",\"hover_fill_color\":\"lightgray\"}}}}}}}},{\"type\":\"object\",\"name\":\"SaveTool\",\"id\":\"p1033\"},{\"type\":\"object\",\"name\":\"ResetTool\",\"id\":\"p1034\"},{\"type\":\"object\",\"name\":\"HelpTool\",\"id\":\"p1035\"}]}},\"left\":[{\"type\":\"object\",\"name\":\"LinearAxis\",\"id\":\"p1018\",\"attributes\":{\"ticker\":{\"type\":\"object\",\"name\":\"BasicTicker\",\"id\":\"p1019\",\"attributes\":{\"mantissas\":[1,2,5]}},\"formatter\":{\"type\":\"object\",\"name\":\"BasicTickFormatter\",\"id\":\"p1020\"},\"axis_label\":\"y\",\"major_label_policy\":{\"type\":\"object\",\"name\":\"AllLabels\",\"id\":\"p1021\"}}}],\"below\":[{\"type\":\"object\",\"name\":\"LinearAxis\",\"id\":\"p1013\",\"attributes\":{\"ticker\":{\"type\":\"object\",\"name\":\"BasicTicker\",\"id\":\"p1014\",\"attributes\":{\"mantissas\":[1,2,5]}},\"formatter\":{\"type\":\"object\",\"name\":\"BasicTickFormatter\",\"id\":\"p1015\"},\"axis_label\":\"x\",\"major_label_policy\":{\"type\":\"object\",\"name\":\"AllLabels\",\"id\":\"p1016\"}}}],\"center\":[{\"type\":\"object\",\"name\":\"Grid\",\"id\":\"p1017\",\"attributes\":{\"axis\":{\"id\":\"p1013\"}}},{\"type\":\"object\",\"name\":\"Grid\",\"id\":\"p1022\",\"attributes\":{\"dimension\":1,\"axis\":{\"id\":\"p1018\"}}},{\"type\":\"object\",\"name\":\"Legend\",\"id\":\"p1045\",\"attributes\":{\"items\":[{\"type\":\"object\",\"name\":\"LegendItem\",\"id\":\"p1046\",\"attributes\":{\"label\":{\"type\":\"value\",\"value\":\"Temp.\"},\"renderers\":[{\"id\":\"p1042\"}]}}]}}]}}]}}\n",
       "    </script>\n",
       "    <script type=\"text/javascript\">\n",
       "      (function() {\n",
       "        const fn = function() {\n",
       "          Bokeh.safely(function() {\n",
       "            (function(root) {\n",
       "              function embed_document(root) {\n",
       "              const docs_json = document.getElementById('d01b02f1-0f21-4d76-bee6-79e4bfb99861').textContent;\n",
       "              const render_items = [{\"docid\":\"8432e501-adaa-4a74-9cda-eb39a98b6c2a\",\"roots\":{\"p1001\":\"eb9fad69-c9fc-49c6-9c21-e7f5498b29a6\"},\"root_ids\":[\"p1001\"]}];\n",
       "              root.Bokeh.embed.embed_items(docs_json, render_items);\n",
       "              }\n",
       "              if (root.Bokeh !== undefined) {\n",
       "                embed_document(root);\n",
       "              } else {\n",
       "                let attempts = 0;\n",
       "                const timer = setInterval(function(root) {\n",
       "                  if (root.Bokeh !== undefined) {\n",
       "                    clearInterval(timer);\n",
       "                    embed_document(root);\n",
       "                  } else {\n",
       "                    attempts++;\n",
       "                    if (attempts > 100) {\n",
       "                      clearInterval(timer);\n",
       "                      console.log(\"Bokeh: ERROR: Unable to run BokehJS code because BokehJS library is missing\");\n",
       "                    }\n",
       "                  }\n",
       "                }, 10, root)\n",
       "              }\n",
       "            })(window);\n",
       "          });\n",
       "        };\n",
       "        if (document.readyState != \"loading\") fn();\n",
       "        else document.addEventListener(\"DOMContentLoaded\", fn);\n",
       "      })();\n",
       "    </script>\n",
       "  </body>\n",
       "</html>"
      ],
      "text/plain": [
       "<IPython.core.display.HTML object>"
      ]
     },
     "metadata": {},
     "output_type": "display_data"
    }
   ],
   "source": [
    "with open(\"demo.html\", 'r') as f:\n",
    "    display(HTML(f.read()))"
   ]
  },
  {
   "cell_type": "code",
   "execution_count": 13,
   "metadata": {},
   "outputs": [
    {
     "data": {
      "text/html": [
       "<!DOCTYPE html>\n",
       "<html lang=\"en\">\n",
       "  <head>\n",
       "    <meta charset=\"utf-8\">\n",
       "    <title>Bokeh Plot</title>\n",
       "    <style>\n",
       "      html, body {\n",
       "        box-sizing: border-box;\n",
       "        display: flow-root;\n",
       "        height: 100%;\n",
       "        margin: 0;\n",
       "        padding: 0;\n",
       "      }\n",
       "    </style>\n",
       "    <script type=\"text/javascript\" src=\"https://cdn.bokeh.org/bokeh/release/bokeh-3.6.2.min.js\"></script>\n",
       "    <script type=\"text/javascript\" src=\"https://cdn.bokeh.org/bokeh/release/bokeh-widgets-3.6.2.min.js\"></script>\n",
       "    <script type=\"text/javascript\">\n",
       "        Bokeh.set_log_level(\"info\");\n",
       "    </script>\n",
       "  </head>\n",
       "  <body>\n",
       "    <div id=\"e8b72146-6db6-4948-86fd-b4b04a8e924f\" data-root-id=\"p1051\" style=\"display: contents;\"></div>\n",
       "  \n",
       "    <script type=\"application/json\" id=\"dcef3298-0935-42d4-8de4-3cd2154efcb5\">\n",
       "      {\"a98af512-1e82-4507-b417-7d0c73b897a6\":{\"version\":\"3.6.2\",\"title\":\"Bokeh Application\",\"roots\":[{\"type\":\"object\",\"name\":\"Row\",\"id\":\"p1051\",\"attributes\":{\"children\":[{\"type\":\"object\",\"name\":\"Figure\",\"id\":\"p1004\",\"attributes\":{\"width\":400,\"height\":400,\"x_range\":{\"type\":\"object\",\"name\":\"DataRange1d\",\"id\":\"p1006\"},\"y_range\":{\"type\":\"object\",\"name\":\"Range1d\",\"id\":\"p1013\",\"attributes\":{\"start\":-30,\"end\":30}},\"x_scale\":{\"type\":\"object\",\"name\":\"LinearScale\",\"id\":\"p1014\"},\"y_scale\":{\"type\":\"object\",\"name\":\"LinearScale\",\"id\":\"p1015\"},\"title\":{\"type\":\"object\",\"name\":\"Title\",\"id\":\"p1011\"},\"renderers\":[{\"type\":\"object\",\"name\":\"GlyphRenderer\",\"id\":\"p1045\",\"attributes\":{\"data_source\":{\"type\":\"object\",\"name\":\"ColumnDataSource\",\"id\":\"p1001\",\"attributes\":{\"selected\":{\"type\":\"object\",\"name\":\"Selection\",\"id\":\"p1002\",\"attributes\":{\"indices\":[],\"line_indices\":[]}},\"selection_policy\":{\"type\":\"object\",\"name\":\"UnionRenderers\",\"id\":\"p1003\"},\"data\":{\"type\":\"map\",\"entries\":[[\"x\",{\"type\":\"ndarray\",\"array\":{\"type\":\"bytes\",\"data\":\"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\"},\"shape\":[200],\"dtype\":\"float64\",\"order\":\"little\"}],[\"y\",{\"type\":\"ndarray\",\"array\":{\"type\":\"bytes\",\"data\":\"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\"},\"shape\":[200],\"dtype\":\"float64\",\"order\":\"little\"}]]}}},\"view\":{\"type\":\"object\",\"name\":\"CDSView\",\"id\":\"p1046\",\"attributes\":{\"filter\":{\"type\":\"object\",\"name\":\"AllIndices\",\"id\":\"p1047\"}}},\"glyph\":{\"type\":\"object\",\"name\":\"Line\",\"id\":\"p1042\",\"attributes\":{\"x\":{\"type\":\"field\",\"field\":\"x\"},\"y\":{\"type\":\"field\",\"field\":\"y\"},\"line_color\":\"#1f77b4\",\"line_alpha\":0.6,\"line_width\":3}},\"nonselection_glyph\":{\"type\":\"object\",\"name\":\"Line\",\"id\":\"p1043\",\"attributes\":{\"x\":{\"type\":\"field\",\"field\":\"x\"},\"y\":{\"type\":\"field\",\"field\":\"y\"},\"line_color\":\"#1f77b4\",\"line_alpha\":0.1,\"line_width\":3}},\"muted_glyph\":{\"type\":\"object\",\"name\":\"Line\",\"id\":\"p1044\",\"attributes\":{\"x\":{\"type\":\"field\",\"field\":\"x\"},\"y\":{\"type\":\"field\",\"field\":\"y\"},\"line_color\":\"#1f77b4\",\"line_alpha\":0.2,\"line_width\":3}}}}],\"toolbar\":{\"type\":\"object\",\"name\":\"Toolbar\",\"id\":\"p1012\",\"attributes\":{\"tools\":[{\"type\":\"object\",\"name\":\"PanTool\",\"id\":\"p1026\"},{\"type\":\"object\",\"name\":\"WheelZoomTool\",\"id\":\"p1027\",\"attributes\":{\"renderers\":\"auto\"}},{\"type\":\"object\",\"name\":\"BoxZoomTool\",\"id\":\"p1028\",\"attributes\":{\"overlay\":{\"type\":\"object\",\"name\":\"BoxAnnotation\",\"id\":\"p1029\",\"attributes\":{\"syncable\":false,\"line_color\":\"black\",\"line_alpha\":1.0,\"line_width\":2,\"line_dash\":[4,4],\"fill_color\":\"lightgrey\",\"fill_alpha\":0.5,\"level\":\"overlay\",\"visible\":false,\"left\":{\"type\":\"number\",\"value\":\"nan\"},\"right\":{\"type\":\"number\",\"value\":\"nan\"},\"top\":{\"type\":\"number\",\"value\":\"nan\"},\"bottom\":{\"type\":\"number\",\"value\":\"nan\"},\"left_units\":\"canvas\",\"right_units\":\"canvas\",\"top_units\":\"canvas\",\"bottom_units\":\"canvas\",\"handles\":{\"type\":\"object\",\"name\":\"BoxInteractionHandles\",\"id\":\"p1035\",\"attributes\":{\"all\":{\"type\":\"object\",\"name\":\"AreaVisuals\",\"id\":\"p1034\",\"attributes\":{\"fill_color\":\"white\",\"hover_fill_color\":\"lightgray\"}}}}}}}},{\"type\":\"object\",\"name\":\"SaveTool\",\"id\":\"p1036\"},{\"type\":\"object\",\"name\":\"ResetTool\",\"id\":\"p1037\"},{\"type\":\"object\",\"name\":\"HelpTool\",\"id\":\"p1038\"}]}},\"left\":[{\"type\":\"object\",\"name\":\"LinearAxis\",\"id\":\"p1021\",\"attributes\":{\"ticker\":{\"type\":\"object\",\"name\":\"BasicTicker\",\"id\":\"p1022\",\"attributes\":{\"mantissas\":[1,2,5]}},\"formatter\":{\"type\":\"object\",\"name\":\"BasicTickFormatter\",\"id\":\"p1023\"},\"major_label_policy\":{\"type\":\"object\",\"name\":\"AllLabels\",\"id\":\"p1024\"}}}],\"below\":[{\"type\":\"object\",\"name\":\"LinearAxis\",\"id\":\"p1016\",\"attributes\":{\"ticker\":{\"type\":\"object\",\"name\":\"BasicTicker\",\"id\":\"p1017\",\"attributes\":{\"mantissas\":[1,2,5]}},\"formatter\":{\"type\":\"object\",\"name\":\"BasicTickFormatter\",\"id\":\"p1018\"},\"major_label_policy\":{\"type\":\"object\",\"name\":\"AllLabels\",\"id\":\"p1019\"}}}],\"center\":[{\"type\":\"object\",\"name\":\"Grid\",\"id\":\"p1020\",\"attributes\":{\"axis\":{\"id\":\"p1016\"}}},{\"type\":\"object\",\"name\":\"Grid\",\"id\":\"p1025\",\"attributes\":{\"dimension\":1,\"axis\":{\"id\":\"p1021\"}}}]}},{\"type\":\"object\",\"name\":\"Column\",\"id\":\"p1050\",\"attributes\":{\"children\":[{\"type\":\"object\",\"name\":\"Slider\",\"id\":\"p1048\",\"attributes\":{\"js_property_callbacks\":{\"type\":\"map\",\"entries\":[[\"change:value\",[{\"type\":\"object\",\"name\":\"CustomJS\",\"id\":\"p1049\",\"attributes\":{\"args\":{\"type\":\"map\",\"entries\":[[\"source\",{\"id\":\"p1001\"}],[\"mode_num\",{\"id\":\"p1048\"}]]},\"code\":\"\\n    const N = mode_num.value\\n\\n    const x = source.data.x\\n\\n    var y = Array.from(x, (x) =&gt; Math.cos(Math.PI*x))\\n    for (let i = 2; i &lt; (N+1); i++) {\\n        const temp_y = Array.from(x, (x) =&gt; Math.cos(i*Math.PI*x))\\n        for (let j = 0; j&lt;y.length; j++) \\n        {\\n         y[j] += temp_y[j]\\n        }\\n    }\\n    source.data = { x, y }\\n\"}}]]]},\"title\":\"Number of modes\",\"start\":1,\"end\":30,\"value\":1}}]}}]}}]}}\n",
       "    </script>\n",
       "    <script type=\"text/javascript\">\n",
       "      (function() {\n",
       "        const fn = function() {\n",
       "          Bokeh.safely(function() {\n",
       "            (function(root) {\n",
       "              function embed_document(root) {\n",
       "              const docs_json = document.getElementById('dcef3298-0935-42d4-8de4-3cd2154efcb5').textContent;\n",
       "              const render_items = [{\"docid\":\"a98af512-1e82-4507-b417-7d0c73b897a6\",\"roots\":{\"p1051\":\"e8b72146-6db6-4948-86fd-b4b04a8e924f\"},\"root_ids\":[\"p1051\"]}];\n",
       "              root.Bokeh.embed.embed_items(docs_json, render_items);\n",
       "              }\n",
       "              if (root.Bokeh !== undefined) {\n",
       "                embed_document(root);\n",
       "              } else {\n",
       "                let attempts = 0;\n",
       "                const timer = setInterval(function(root) {\n",
       "                  if (root.Bokeh !== undefined) {\n",
       "                    clearInterval(timer);\n",
       "                    embed_document(root);\n",
       "                  } else {\n",
       "                    attempts++;\n",
       "                    if (attempts > 100) {\n",
       "                      clearInterval(timer);\n",
       "                      console.log(\"Bokeh: ERROR: Unable to run BokehJS code because BokehJS library is missing\");\n",
       "                    }\n",
       "                  }\n",
       "                }, 10, root)\n",
       "              }\n",
       "            })(window);\n",
       "          });\n",
       "        };\n",
       "        if (document.readyState != \"loading\") fn();\n",
       "        else document.addEventListener(\"DOMContentLoaded\", fn);\n",
       "      })();\n",
       "    </script>\n",
       "  </body>\n",
       "</html>"
      ],
      "text/plain": [
       "<IPython.core.display.HTML object>"
      ]
     },
     "metadata": {},
     "output_type": "display_data"
    }
   ],
   "source": [
    "with open(\"demo-bokeh-static.html\", 'r') as f:\n",
    "    display(HTML(f.read()))"
   ]
  },
  {
   "cell_type": "code",
   "execution_count": 16,
   "metadata": {},
   "outputs": [],
   "source": [
    "from bokeh.embed import server_document\n",
    "script = server_document(\"demo-bokeh-static.html\")"
   ]
  },
  {
   "cell_type": "code",
   "execution_count": null,
   "metadata": {},
   "outputs": [],
   "source": []
  }
 ],
 "metadata": {
  "kernelspec": {
   "display_name": "Python 3 (ipykernel)",
   "language": "python",
   "name": "python3"
  },
  "language_info": {
   "codemirror_mode": {
    "name": "ipython",
    "version": 3
   },
   "file_extension": ".py",
   "mimetype": "text/x-python",
   "name": "python",
   "nbconvert_exporter": "python",
   "pygments_lexer": "ipython3",
   "version": "3.8.10"
  }
 },
 "nbformat": 4,
 "nbformat_minor": 4
}
