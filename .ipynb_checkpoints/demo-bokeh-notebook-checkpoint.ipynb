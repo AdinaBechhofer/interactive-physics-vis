{
 "cells": [
  {
   "cell_type": "markdown",
   "metadata": {},
   "source": [
    "# Testing Bokeh visualizations in a notebook \n",
    "and eventually in a book. "
   ]
  },
  {
   "cell_type": "code",
   "execution_count": null,
   "metadata": {},
   "outputs": [],
   "source": [
    "import numpy as np\n",
    "from bokeh.plotting import show, figure\n",
    "from bokeh.io import output_notebook \n",
    "from bokeh.layouts import column, row\n",
    "from bokeh.models import ColumnDataSource, Slider, TextInput"
   ]
  },
  {
   "cell_type": "code",
   "execution_count": 1,
   "metadata": {},
   "outputs": [
    {
     "ename": "NameError",
     "evalue": "name 'np' is not defined",
     "output_type": "error",
     "traceback": [
      "\u001b[1;31m---------------------------------------------------------------------------\u001b[0m",
      "\u001b[1;31mNameError\u001b[0m                                 Traceback (most recent call last)",
      "Cell \u001b[1;32mIn[1], line 2\u001b[0m\n\u001b[0;32m      1\u001b[0m \u001b[38;5;66;03m# set up data for callback \u001b[39;00m\n\u001b[1;32m----> 2\u001b[0m x \u001b[38;5;241m=\u001b[39m \u001b[43mnp\u001b[49m\u001b[38;5;241m.\u001b[39mlinspace(\u001b[38;5;241m-\u001b[39m\u001b[38;5;241m2\u001b[39m, \u001b[38;5;241m2\u001b[39m, \u001b[38;5;241m200\u001b[39m)\n\u001b[0;32m      3\u001b[0m y \u001b[38;5;241m=\u001b[39m np\u001b[38;5;241m.\u001b[39mcos(np\u001b[38;5;241m.\u001b[39mpi\u001b[38;5;241m*\u001b[39mx)\n\u001b[0;32m      4\u001b[0m source \u001b[38;5;241m=\u001b[39m ColumnDataSource(data\u001b[38;5;241m=\u001b[39m\u001b[38;5;28mdict\u001b[39m(x\u001b[38;5;241m=\u001b[39mx, y\u001b[38;5;241m=\u001b[39my))\n",
      "\u001b[1;31mNameError\u001b[0m: name 'np' is not defined"
     ]
    }
   ],
   "source": [
    "# set up data for callback \n",
    "x = np.linspace(-2, 2, 200)\n",
    "y = np.cos(np.pi*x)\n",
    "source = ColumnDataSource(data=dict(x=x, y=y))\n",
    "\n",
    "# Set up plot\n",
    "plot = figure(height=400, width=400, title=\"my sine wave\",\n",
    "              tools=\"crosshair,pan,reset,save,wheel_zoom\",\n",
    "              x_range=[-2, 2], y_range=[-30, 30])\n",
    "\n",
    "plot.line('x', 'y', source=source, line_width=3, line_alpha=0.6)\n",
    "\n",
    "\n",
    "# Set up widgets\n",
    "text = TextInput(title=\"title\", value='Modes')\n",
    "mod_num = Slider(title=\"Number of modes\", value=1, start=1, end=30, step=1)\n",
    "\n",
    "\n",
    "# Set up callbacks\n",
    "def update_title(attrname, old, new):\n",
    "    plot.title.text = text.value\n",
    "\n",
    "text.on_change('value', update_title)\n",
    "\n",
    "def update_data(attrname, old, new):\n",
    "\n",
    "    # Get the current slider values\n",
    "    N = mod_num.value\n",
    "\n",
    "\n",
    "    # Generate the new curve\n",
    "    x = np.linspace(-2, 2, 200)\n",
    "    y = np.zeros_like(x)\n",
    "    for i in range(N):\n",
    "        y += np.cos((i+1)*np.pi*x)\n",
    "\n",
    "    source.data = dict(x=x, y=y)\n",
    "\n",
    "for w in [mod_num]:\n",
    "    w.on_change('value', update_data)\n",
    "\n",
    "\n",
    "# Set up layouts and add to document\n",
    "inputs = column(text, mod_num)\n",
    "\n",
    "output_notebook()\n",
    "show(plot)\n"
   ]
  },
  {
   "cell_type": "code",
   "execution_count": null,
   "metadata": {},
   "outputs": [],
   "source": []
  }
 ],
 "metadata": {
  "kernelspec": {
   "display_name": "Python 3",
   "language": "python",
   "name": "python3"
  },
  "language_info": {
   "codemirror_mode": {
    "name": "ipython",
    "version": 3
   },
   "file_extension": ".py",
   "mimetype": "text/x-python",
   "name": "python",
   "nbconvert_exporter": "python",
   "pygments_lexer": "ipython3",
   "version": "3.11.9"
  }
 },
 "nbformat": 4,
 "nbformat_minor": 2
}
