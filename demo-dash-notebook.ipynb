{
 "cells": [
  {
   "cell_type": "code",
   "execution_count": 1,
   "metadata": {
    "vscode": {
     "languageId": "plaintext"
    }
   },
   "outputs": [],
   "source": [
    "# Import packages\n",
    "from dash import Dash, html, dash_table, dcc, callback, Output, Input\n",
    "import pandas as pd\n",
    "import plotly.express as px\n",
    "import numpy as np"
   ]
  },
  {
   "cell_type": "code",
   "execution_count": 2,
   "metadata": {
    "vscode": {
     "languageId": "plaintext"
    }
   },
   "outputs": [
    {
     "data": {
      "text/html": [
       "\n",
       "        <iframe\n",
       "            width=\"100%\"\n",
       "            height=\"650\"\n",
       "            src=\"http://127.0.0.1:8050/\"\n",
       "            frameborder=\"0\"\n",
       "            allowfullscreen\n",
       "            \n",
       "        ></iframe>\n",
       "        "
      ],
      "text/plain": [
       "<IPython.lib.display.IFrame at 0x7f84bbfdff70>"
      ]
     },
     "metadata": {},
     "output_type": "display_data"
    }
   ],
   "source": [
    "\n",
    "# Initialize the app\n",
    "app = Dash()\n",
    "\n",
    "# App layout\n",
    "app.layout = [\n",
    "    html.H2(children='Physics visualization'),\n",
    "    dcc.Slider(1, 30, 1, value=1, marks=None, id='N-slider'),\n",
    "    html.Div(id='updatemode-output-container', style={'marginTop': 20}),\n",
    "    dcc.Graph(figure={}, id='plot')\n",
    "]\n",
    "\n",
    "# set up data for callback \n",
    "x = np.linspace(-2, 2, 300)\n",
    "y = np.cos(np.pi*x)\n",
    "source = pd.DataFrame.from_dict(dict(x=x, y=y))\n",
    "# Add controls to build the interaction\n",
    "@callback(\n",
    "    Output(component_id='plot', component_property='figure'),\n",
    "    Input(component_id='N-slider', component_property='value'))\n",
    "\n",
    "def update_graph(N):\n",
    "    # Generate the new curve\n",
    "    x = np.linspace(-2, 2, 300)\n",
    "    y = np.zeros_like(x)\n",
    "    for i in range(N):\n",
    "        y += np.cos((i+1)*np.pi*x)\n",
    "    source.y = y\n",
    "    fig = px.line(source, x='x', y='y', markers=False)\n",
    "    return fig\n",
    "\n",
    "@callback(Output('updatemode-output-container', 'children'),\n",
    "          Input('N-slider', 'value'))\n",
    "def display_value(value):\n",
    "    return 'Number of modes: {}'.format(value) \n",
    "\n",
    "# Run the app\n",
    "if __name__ == '__main__':\n",
    "    app.run(debug=True)\n",
    "\n"
   ]
  },
  {
   "cell_type": "code",
   "execution_count": null,
   "metadata": {},
   "outputs": [],
   "source": []
  }
 ],
 "metadata": {
  "kernelspec": {
   "display_name": "Python 3 (ipykernel)",
   "language": "python",
   "name": "python3"
  },
  "language_info": {
   "codemirror_mode": {
    "name": "ipython",
    "version": 3
   },
   "file_extension": ".py",
   "mimetype": "text/x-python",
   "name": "python",
   "nbconvert_exporter": "python",
   "pygments_lexer": "ipython3",
   "version": "3.8.10"
  }
 },
 "nbformat": 4,
 "nbformat_minor": 4
}
